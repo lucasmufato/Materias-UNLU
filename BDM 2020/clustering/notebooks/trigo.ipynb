{
 "cells": [
  {
   "cell_type": "code",
   "execution_count": 3,
   "metadata": {
    "collapsed": true
   },
   "outputs": [
    {
     "name": "stdout",
     "output_type": "stream",
     "text": [
      "rm: cannot remove 'seeds_dataset.txt': No such file or directory\r\n",
      "--2020-11-22 11:12:18--  https://archive.ics.uci.edu/ml/machine-learning-databases/00236/seeds_dataset.txt\r\n",
      "Resolving archive.ics.uci.edu (archive.ics.uci.edu)... 128.195.10.252\r\n",
      "Connecting to archive.ics.uci.edu (archive.ics.uci.edu)|128.195.10.252|:443... connected.\r\n",
      "HTTP request sent, awaiting response... 200 OK\r\n",
      "Length: 9300 (9.1K) [application/x-httpd-php]\r\n",
      "Saving to: ‘seeds_dataset.txt’\r\n",
      "\r\n",
      "seeds_dataset.txt   100%[===================>]   9.08K  --.-KB/s    in 0.001s  \r\n",
      "\r\n",
      "2020-11-22 11:12:19 (6.10 MB/s) - ‘seeds_dataset.txt’ saved [9300/9300]\r\n",
      "\r\n"
     ]
    }
   ],
   "source": [
    "import pandas as pd\n",
    "import graphviz\n",
    "import numpy as np\n",
    "from sklearn import metrics\n",
    "# !rm seeds_dataset.txt\n",
    "# !wget https://archive.ics.uci.edu/ml/machine-learning-databases/00236/seeds_dataset.txt"
   ]
  },
  {
   "cell_type": "code",
   "execution_count": 8,
   "outputs": [
    {
     "data": {
      "text/plain": "   15.26  14.84   0.871  5.763  3.312  2.221   5.22  1\n0  14.88  14.57  0.8811  5.554  3.333  1.018  4.956  1\n1  14.29  14.09  0.9050  5.291  3.337  2.699  4.825  1\n2  13.84  13.94  0.8955  5.324  3.379  2.259  4.805  1\n3  16.14  14.99  0.9034  5.658  3.562  1.355  5.175  1\n4  14.38  14.21  0.8951  5.386  3.312  2.462  4.956  1",
      "text/html": "<div>\n<style scoped>\n    .dataframe tbody tr th:only-of-type {\n        vertical-align: middle;\n    }\n\n    .dataframe tbody tr th {\n        vertical-align: top;\n    }\n\n    .dataframe thead th {\n        text-align: right;\n    }\n</style>\n<table border=\"1\" class=\"dataframe\">\n  <thead>\n    <tr style=\"text-align: right;\">\n      <th></th>\n      <th>15.26</th>\n      <th>14.84</th>\n      <th>0.871</th>\n      <th>5.763</th>\n      <th>3.312</th>\n      <th>2.221</th>\n      <th>5.22</th>\n      <th>1</th>\n    </tr>\n  </thead>\n  <tbody>\n    <tr>\n      <th>0</th>\n      <td>14.88</td>\n      <td>14.57</td>\n      <td>0.8811</td>\n      <td>5.554</td>\n      <td>3.333</td>\n      <td>1.018</td>\n      <td>4.956</td>\n      <td>1</td>\n    </tr>\n    <tr>\n      <th>1</th>\n      <td>14.29</td>\n      <td>14.09</td>\n      <td>0.9050</td>\n      <td>5.291</td>\n      <td>3.337</td>\n      <td>2.699</td>\n      <td>4.825</td>\n      <td>1</td>\n    </tr>\n    <tr>\n      <th>2</th>\n      <td>13.84</td>\n      <td>13.94</td>\n      <td>0.8955</td>\n      <td>5.324</td>\n      <td>3.379</td>\n      <td>2.259</td>\n      <td>4.805</td>\n      <td>1</td>\n    </tr>\n    <tr>\n      <th>3</th>\n      <td>16.14</td>\n      <td>14.99</td>\n      <td>0.9034</td>\n      <td>5.658</td>\n      <td>3.562</td>\n      <td>1.355</td>\n      <td>5.175</td>\n      <td>1</td>\n    </tr>\n    <tr>\n      <th>4</th>\n      <td>14.38</td>\n      <td>14.21</td>\n      <td>0.8951</td>\n      <td>5.386</td>\n      <td>3.312</td>\n      <td>2.462</td>\n      <td>4.956</td>\n      <td>1</td>\n    </tr>\n  </tbody>\n</table>\n</div>"
     },
     "execution_count": 8,
     "metadata": {},
     "output_type": "execute_result"
    }
   ],
   "source": [
    "data = pd.read_csv(\"seeds_dataset.txt\")\n",
    "data.head()\n"
   ],
   "metadata": {
    "collapsed": false,
    "pycharm": {
     "name": "#%%\n"
    }
   }
  }
 ],
 "metadata": {
  "kernelspec": {
   "display_name": "Python 3",
   "language": "python",
   "name": "python3"
  },
  "language_info": {
   "codemirror_mode": {
    "name": "ipython",
    "version": 2
   },
   "file_extension": ".py",
   "mimetype": "text/x-python",
   "name": "python",
   "nbconvert_exporter": "python",
   "pygments_lexer": "ipython2",
   "version": "2.7.6"
  }
 },
 "nbformat": 4,
 "nbformat_minor": 0
}